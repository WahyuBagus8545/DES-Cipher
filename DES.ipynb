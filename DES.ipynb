{
  "nbformat": 4,
  "nbformat_minor": 0,
  "metadata": {
    "colab": {
      "provenance": [],
      "collapsed_sections": [
        "KYjJqZQRbbtr"
      ],
      "include_colab_link": true
    },
    "kernelspec": {
      "name": "python3",
      "display_name": "Python 3"
    },
    "language_info": {
      "name": "python"
    }
  },
  "cells": [
    {
      "cell_type": "markdown",
      "metadata": {
        "id": "view-in-github",
        "colab_type": "text"
      },
      "source": [
        "<a href=\"https://colab.research.google.com/github/WahyuBagus8545/DES-Cipher/blob/main/DES.ipynb\" target=\"_parent\"><img src=\"https://colab.research.google.com/assets/colab-badge.svg\" alt=\"Open In Colab\"/></a>"
      ]
    },
    {
      "cell_type": "markdown",
      "source": [
        "# Program kriptografi algoritma DES\n",
        "by Mohammad Wahyu Bagus Dwi Satya"
      ],
      "metadata": {
        "id": "pxhFUKaWadB0"
      }
    },
    {
      "cell_type": "code",
      "source": [
        "import string\n",
        "import random\n",
        "import numpy as np"
      ],
      "metadata": {
        "id": "rIu0PndffFUd"
      },
      "execution_count": 20,
      "outputs": []
    },
    {
      "cell_type": "code",
      "execution_count": 12,
      "metadata": {
        "id": "sHpaFSIhYyAl"
      },
      "outputs": [],
      "source": [
        "#plainText = input('Masukkan kata : ')"
      ]
    },
    {
      "cell_type": "code",
      "source": [
        "while True:\n",
        "  plainText = input(\"Masukkan teks (minimal 8 karakter): \")\n",
        "\n",
        "    # Menggunakan slicing untuk memastikan hanya 8 karakter pertama yang digunakan\n",
        "  plainText = plainText[:8]\n",
        "\n",
        "  if len(plainText) >= 8:\n",
        "        print(\"Input valid:\",  plainText)\n",
        "        break\n",
        "  else:\n",
        "        # Menambahkan karakter acak jika panjang input kurang dari 8\n",
        "      additional_characters = ''.join(random.choices(string.ascii_letters, k=8 - len( plainText)))\n",
        "      plainText += additional_characters\n",
        "print(f\"Panjang input kurang dari 8. Menambahkan karakter acak: { plainText}\")"
      ],
      "metadata": {
        "colab": {
          "base_uri": "https://localhost:8080/",
          "height": 407
        },
        "id": "4tyNkjlQbcE5",
        "outputId": "23376740-feae-4800-97ba-2065c3c43dcb"
      },
      "execution_count": 22,
      "outputs": [
        {
          "name": "stdout",
          "output_type": "stream",
          "text": [
            "Masukkan teks (minimal 8 karakter): jerapah\n"
          ]
        },
        {
          "output_type": "error",
          "ename": "KeyboardInterrupt",
          "evalue": "ignored",
          "traceback": [
            "\u001b[0;31m---------------------------------------------------------------------------\u001b[0m",
            "\u001b[0;31mKeyboardInterrupt\u001b[0m                         Traceback (most recent call last)",
            "\u001b[0;32m<ipython-input-22-701c979a1cc5>\u001b[0m in \u001b[0;36m<cell line: 1>\u001b[0;34m()\u001b[0m\n\u001b[1;32m      1\u001b[0m \u001b[0;32mwhile\u001b[0m \u001b[0;32mTrue\u001b[0m\u001b[0;34m:\u001b[0m\u001b[0;34m\u001b[0m\u001b[0;34m\u001b[0m\u001b[0m\n\u001b[0;32m----> 2\u001b[0;31m   \u001b[0mplainText\u001b[0m \u001b[0;34m=\u001b[0m \u001b[0minput\u001b[0m\u001b[0;34m(\u001b[0m\u001b[0;34m\"Masukkan teks (minimal 8 karakter): \"\u001b[0m\u001b[0;34m)\u001b[0m\u001b[0;34m\u001b[0m\u001b[0;34m\u001b[0m\u001b[0m\n\u001b[0m\u001b[1;32m      3\u001b[0m \u001b[0;34m\u001b[0m\u001b[0m\n\u001b[1;32m      4\u001b[0m     \u001b[0;31m# Menggunakan slicing untuk memastikan hanya 8 karakter pertama yang digunakan\u001b[0m\u001b[0;34m\u001b[0m\u001b[0;34m\u001b[0m\u001b[0m\n\u001b[1;32m      5\u001b[0m   \u001b[0mplainText\u001b[0m \u001b[0;34m=\u001b[0m \u001b[0mplainText\u001b[0m\u001b[0;34m[\u001b[0m\u001b[0;34m:\u001b[0m\u001b[0;36m8\u001b[0m\u001b[0;34m]\u001b[0m\u001b[0;34m\u001b[0m\u001b[0;34m\u001b[0m\u001b[0m\n",
            "\u001b[0;32m/usr/local/lib/python3.10/dist-packages/ipykernel/kernelbase.py\u001b[0m in \u001b[0;36mraw_input\u001b[0;34m(self, prompt)\u001b[0m\n\u001b[1;32m    849\u001b[0m                 \u001b[0;34m\"raw_input was called, but this frontend does not support input requests.\"\u001b[0m\u001b[0;34m\u001b[0m\u001b[0;34m\u001b[0m\u001b[0m\n\u001b[1;32m    850\u001b[0m             )\n\u001b[0;32m--> 851\u001b[0;31m         return self._input_request(str(prompt),\n\u001b[0m\u001b[1;32m    852\u001b[0m             \u001b[0mself\u001b[0m\u001b[0;34m.\u001b[0m\u001b[0m_parent_ident\u001b[0m\u001b[0;34m,\u001b[0m\u001b[0;34m\u001b[0m\u001b[0;34m\u001b[0m\u001b[0m\n\u001b[1;32m    853\u001b[0m             \u001b[0mself\u001b[0m\u001b[0;34m.\u001b[0m\u001b[0m_parent_header\u001b[0m\u001b[0;34m,\u001b[0m\u001b[0;34m\u001b[0m\u001b[0;34m\u001b[0m\u001b[0m\n",
            "\u001b[0;32m/usr/local/lib/python3.10/dist-packages/ipykernel/kernelbase.py\u001b[0m in \u001b[0;36m_input_request\u001b[0;34m(self, prompt, ident, parent, password)\u001b[0m\n\u001b[1;32m    893\u001b[0m             \u001b[0;32mexcept\u001b[0m \u001b[0mKeyboardInterrupt\u001b[0m\u001b[0;34m:\u001b[0m\u001b[0;34m\u001b[0m\u001b[0;34m\u001b[0m\u001b[0m\n\u001b[1;32m    894\u001b[0m                 \u001b[0;31m# re-raise KeyboardInterrupt, to truncate traceback\u001b[0m\u001b[0;34m\u001b[0m\u001b[0;34m\u001b[0m\u001b[0m\n\u001b[0;32m--> 895\u001b[0;31m                 \u001b[0;32mraise\u001b[0m \u001b[0mKeyboardInterrupt\u001b[0m\u001b[0;34m(\u001b[0m\u001b[0;34m\"Interrupted by user\"\u001b[0m\u001b[0;34m)\u001b[0m \u001b[0;32mfrom\u001b[0m \u001b[0;32mNone\u001b[0m\u001b[0;34m\u001b[0m\u001b[0;34m\u001b[0m\u001b[0m\n\u001b[0m\u001b[1;32m    896\u001b[0m             \u001b[0;32mexcept\u001b[0m \u001b[0mException\u001b[0m \u001b[0;32mas\u001b[0m \u001b[0me\u001b[0m\u001b[0;34m:\u001b[0m\u001b[0;34m\u001b[0m\u001b[0;34m\u001b[0m\u001b[0m\n\u001b[1;32m    897\u001b[0m                 \u001b[0mself\u001b[0m\u001b[0;34m.\u001b[0m\u001b[0mlog\u001b[0m\u001b[0;34m.\u001b[0m\u001b[0mwarning\u001b[0m\u001b[0;34m(\u001b[0m\u001b[0;34m\"Invalid Message:\"\u001b[0m\u001b[0;34m,\u001b[0m \u001b[0mexc_info\u001b[0m\u001b[0;34m=\u001b[0m\u001b[0;32mTrue\u001b[0m\u001b[0;34m)\u001b[0m\u001b[0;34m\u001b[0m\u001b[0;34m\u001b[0m\u001b[0m\n",
            "\u001b[0;31mKeyboardInterrupt\u001b[0m: Interrupted by user"
          ]
        }
      ]
    },
    {
      "cell_type": "code",
      "source": [
        "#mainKey = input('Masukkan kunci : ')"
      ],
      "metadata": {
        "id": "DLRsePGbb_mw"
      },
      "execution_count": 14,
      "outputs": []
    },
    {
      "cell_type": "code",
      "source": [
        "while True:\n",
        "  mainkey = input(\"Masukkan teks (minimal 8 karakter): \")\n",
        "\n",
        "    # Menggunakan slicing untuk memastikan hanya 8 karakter pertama yang digunakan\n",
        "  mainkey = mainkey[:8]\n",
        "\n",
        "  print(\"Input valid:\", mainkey)\n",
        "  break"
      ],
      "metadata": {
        "colab": {
          "base_uri": "https://localhost:8080/"
        },
        "id": "ICoyvtOfbRZ7",
        "outputId": "0ea0bbc6-939b-4709-918b-4d11252e32a5"
      },
      "execution_count": 15,
      "outputs": [
        {
          "output_type": "stream",
          "name": "stdout",
          "text": [
            "Masukkan teks (minimal 8 karakter): jerapah\n",
            "Input valid: jerapah\n"
          ]
        }
      ]
    },
    {
      "cell_type": "markdown",
      "source": [
        "# ENKRIPSI"
      ],
      "metadata": {
        "id": "jfcJivTvJEK5"
      }
    },
    {
      "cell_type": "code",
      "source": [
        "char_to_hexa = {'a':'61', 'b': '62', 'c': '63', 'd': '64', 'e': '65', 'f': '66', 'g': '67', 'h': '68', 'i':'69',\n",
        "                'j':'6a', 'k':'6b', 'l':'6c', 'm':'6d', 'n':'6e', 'o':'6f', 'p':'70', 'q':'71', 'r':'72', 's':'73',\n",
        "                't':'74', 'u':'75', 'v':'76', 'w':'77', 'x':'78', 'y':'79', 'z':'7a'}\n",
        "\n",
        "hexa_to_bin = {\n",
        "                '0': '0000', '1': '0001', '2': '0010', '3': '0011', '4': '0100',\n",
        "                '5': '0101', '6': '0110', '7': '0111', '8': '1000', '9': '1001',\n",
        "                'a': '1010', 'b': '1011', 'c': '1100', 'd': '1101', 'e': '1110', 'f': '1111'\n",
        "               }\n",
        "\n",
        "\n",
        "hexa_to_char = {\n",
        "                '61':'a', '62': 'b', '63': 'c', '64': 'd', '65': 'e', '66': 'f', '67': 'g', '68': 'h', '69':'i',\n",
        "                '6a':'j', '6b':'k', '6c':'l', '6d':'m', '6e':'n', '6f':'o', '70':'p', '71':'q', '72':'r', '73':'s',\n",
        "                '74':'t', '75':'u', '76':'v', '77':'w', '78':'x', '79':'y', '7a':'z', '41':'A', '42':'B', '43':'C',\n",
        "                '44':'D', '45':'E', '46':'F', '47':'G', '48':'H', '49':'I', '4a':'J', '4b':'K', '4c':'L', '4d':'M', '4e':'N',\n",
        "                '4f':'O', '50':'P', '51':'Q', '52':'R', '53':'S', '54':'T', '55':'U', '56':'V', '57':'W', '58':'X', '59':'Y', '5a':'Z'\n",
        "               }"
      ],
      "metadata": {
        "id": "HBbXTXKffnVr"
      },
      "execution_count": 16,
      "outputs": []
    },
    {
      "cell_type": "code",
      "source": [
        "cleanText=\"\"\n",
        "for i in plainText:\n",
        "  if i == ' ':\n",
        "    continue\n",
        "    # Perulangan untuk dimana untuk setiap spasi / karakter kosong maka akan dilewati\n",
        "  else:\n",
        "    cleanText += i\n",
        "     # Jika bukan spasi, karakter tersebut ditambahkan ke dalam string cleanText.\n",
        "\n",
        "# Dengan cara ini, kodingan ini menghasilkan text versi \"bersih\" dengan menghapus karakter spasi.\n",
        "print(cleanText)"
      ],
      "metadata": {
        "colab": {
          "base_uri": "https://localhost:8080/"
        },
        "id": "i_ApkLyajMDq",
        "outputId": "b6af6148-8b82-451e-c521-c0f09007b2fe"
      },
      "execution_count": 17,
      "outputs": [
        {
          "output_type": "stream",
          "name": "stdout",
          "text": [
            "tiranosa\n"
          ]
        }
      ]
    },
    {
      "cell_type": "code",
      "source": [
        "initialText = cleanText\n",
        "\n",
        "if len(initialText) < 8 or len(initialText) > 8:\n",
        "            print(\"Please, enter 64 bits or 8 bytes as initial message \")\n",
        "else:\n",
        "    byteMsg = initialText.encode('utf-8')\n",
        "    hexaMsg = str(byteMsg.hex())\n",
        "    tempMsg = []\n",
        "    s = \"\"\n",
        "    for i in str(hexaMsg):\n",
        "      for j in hexa_to_bin:\n",
        "          if i == j:\n",
        "            tempMsg.append(hexa_to_bin[j])\n",
        "    binMsg = s.join(tempMsg)\n",
        "    formatted_binary_msg = ' '.join([binMsg[i:i+8] for i in range(0, len(binMsg), 8)])\n",
        "    print(formatted_binary_msg, \"\\n\")"
      ],
      "metadata": {
        "colab": {
          "base_uri": "https://localhost:8080/"
        },
        "id": "iaUTEyA9itZF",
        "outputId": "9e520a09-73b6-42ef-c8da-489c8859a620"
      },
      "execution_count": 18,
      "outputs": [
        {
          "output_type": "stream",
          "name": "stdout",
          "text": [
            "01110100 01101001 01110010 01100001 01101110 01101111 01110011 01100001 \n",
            "\n"
          ]
        }
      ]
    },
    {
      "cell_type": "code",
      "source": [
        "initialKey = mainKey\n",
        "\n",
        "if len(initialKey) < 8 or len(initialKey) > 8:\n",
        "    print(\"Please, enter 64 bits or 8 bytes as initial key \")\n",
        "else:\n",
        "      temphKey = []\n",
        "      s = \"\"\n",
        "      for i in str(initialKey):\n",
        "        for j in char_to_hexa:\n",
        "          if i == j:\n",
        "            temphKey.append(char_to_hexa[j])\n",
        "      # Join all the elements in temphKey after the loops\n",
        "      hexaKey = s.join(temphKey)\n",
        "      print(\"The hexadecimal representational for your key is:\")\n",
        "      print(hexaKey, \"\\n\")\n",
        "\n",
        "      tempKey   = []\n",
        "      s         = \"\"\n",
        "      for i in str(hexaKey):\n",
        "        for j in hexa_to_bin:\n",
        "                if i == j:\n",
        "                    tempKey.append(hexa_to_bin[j])\n",
        "        binKey  = s.join(tempKey)\n",
        "      print(\"The binary representational for your key is:\")\n",
        "      print(binKey,\"\\n\")\n"
      ],
      "metadata": {
        "id": "7L0XU7jGa4yT",
        "colab": {
          "base_uri": "https://localhost:8080/",
          "height": 245
        },
        "outputId": "09ec8ee2-ed35-483e-bc75-226be70195f7"
      },
      "execution_count": 19,
      "outputs": [
        {
          "output_type": "error",
          "ename": "NameError",
          "evalue": "ignored",
          "traceback": [
            "\u001b[0;31m---------------------------------------------------------------------------\u001b[0m",
            "\u001b[0;31mNameError\u001b[0m                                 Traceback (most recent call last)",
            "\u001b[0;32m<ipython-input-19-688be02c1f7d>\u001b[0m in \u001b[0;36m<cell line: 1>\u001b[0;34m()\u001b[0m\n\u001b[0;32m----> 1\u001b[0;31m \u001b[0minitialKey\u001b[0m \u001b[0;34m=\u001b[0m \u001b[0mmainKey\u001b[0m\u001b[0;34m\u001b[0m\u001b[0;34m\u001b[0m\u001b[0m\n\u001b[0m\u001b[1;32m      2\u001b[0m \u001b[0;34m\u001b[0m\u001b[0m\n\u001b[1;32m      3\u001b[0m \u001b[0;32mif\u001b[0m \u001b[0mlen\u001b[0m\u001b[0;34m(\u001b[0m\u001b[0minitialKey\u001b[0m\u001b[0;34m)\u001b[0m \u001b[0;34m<\u001b[0m \u001b[0;36m8\u001b[0m \u001b[0;32mor\u001b[0m \u001b[0mlen\u001b[0m\u001b[0;34m(\u001b[0m\u001b[0minitialKey\u001b[0m\u001b[0;34m)\u001b[0m \u001b[0;34m>\u001b[0m \u001b[0;36m8\u001b[0m\u001b[0;34m:\u001b[0m\u001b[0;34m\u001b[0m\u001b[0;34m\u001b[0m\u001b[0m\n\u001b[1;32m      4\u001b[0m     \u001b[0mprint\u001b[0m\u001b[0;34m(\u001b[0m\u001b[0;34m\"Please, enter 64 bits or 8 bytes as initial key \"\u001b[0m\u001b[0;34m)\u001b[0m\u001b[0;34m\u001b[0m\u001b[0;34m\u001b[0m\u001b[0m\n\u001b[1;32m      5\u001b[0m \u001b[0;32melse\u001b[0m\u001b[0;34m:\u001b[0m\u001b[0;34m\u001b[0m\u001b[0;34m\u001b[0m\u001b[0m\n",
            "\u001b[0;31mNameError\u001b[0m: name 'mainKey' is not defined"
          ]
        }
      ]
    },
    {
      "cell_type": "code",
      "source": [
        "len(binKey)"
      ],
      "metadata": {
        "id": "F3-ytQKEkdz4"
      },
      "execution_count": null,
      "outputs": []
    },
    {
      "cell_type": "markdown",
      "source": [
        "Langkah 1 Permutasi awal"
      ],
      "metadata": {
        "id": "Y6ZKJZuHI-Ee"
      }
    },
    {
      "cell_type": "code",
      "source": [
        "IP = [58, 50, 42, 34, 26, 18, 10, 2,\n",
        "      60, 52, 44, 36, 28, 20, 12, 4,\n",
        "      62, 54, 46, 38, 30, 22, 14, 6,\n",
        "      64, 56, 48, 40, 32, 24, 16, 8,\n",
        "      57, 49, 41, 33, 25, 17, 9, 1,\n",
        "      59, 51, 43, 35, 27, 19, 11, 3,\n",
        "      61, 53, 45, 37, 29, 21, 13, 5,\n",
        "      63, 55, 47, 39, 31, 23, 15, 7]\n",
        "\n",
        "matrikIP=[IP[i:i+8] for i in range(0, len(IP), 8)]\n",
        "for row in matrikIP:\n",
        "    print(row)"
      ],
      "metadata": {
        "id": "rW8xl0zObWtv"
      },
      "execution_count": null,
      "outputs": []
    },
    {
      "cell_type": "code",
      "source": [
        "i = 0\n",
        "s = \"\"\n",
        "\n",
        "permuted_text = [binMsg[i - 1] for i in IP]\n",
        "\n",
        "#print(\"The message after the IP \\n\")\n",
        "msgIP = s.join(permuted_text)\n",
        "print(msgIP, \"\\n\")"
      ],
      "metadata": {
        "id": "kl1aa8xPtio_"
      },
      "execution_count": null,
      "outputs": []
    },
    {
      "cell_type": "markdown",
      "source": [
        "Langkah 2"
      ],
      "metadata": {
        "id": "dIdYxmO2I3DL"
      }
    },
    {
      "cell_type": "code",
      "source": [
        "# 32 bit\n",
        "L0 = msgIP[:32]\n",
        "R0 = msgIP[-32:]\n",
        "\n",
        "LeftSideList = [L0]\n",
        "#L0\n",
        "formatted_binary_L0 = ' '.join([L0[i:i+8] for i in range(0, len(L0), 8)])\n",
        "print(\"L0 : \"+formatted_binary_L0)\n",
        "\n",
        "RightSideList = [R0]\n",
        "#R0\n",
        "formatted_binary_R0 = ' '.join([R0[i:i+8] for i in range(0, len(R0), 8)])\n",
        "print(\"R0 : \"+formatted_binary_R0)"
      ],
      "metadata": {
        "id": "CUM2iq_JwIlS"
      },
      "execution_count": null,
      "outputs": []
    },
    {
      "cell_type": "markdown",
      "source": [
        "Langkah 3 Pembangkitan Kunci"
      ],
      "metadata": {
        "id": "Wvl0CrT2HDaj"
      }
    },
    {
      "cell_type": "code",
      "source": [
        "PC1 = [57,   49,    41,   33,    25,    17,    9,\n",
        "        1,   58,    50,   42,    34,    26,   18,\n",
        "       10,    2,    59,   51,    43,    35,   27,\n",
        "       19,   11,     3,   60,    52,    44,   36,\n",
        "       63,   55,    47,   39,    31,    23,   15,\n",
        "        7,   62,    54,   46,    38,    30,   22,\n",
        "       14,    6,    61,   53,    45,    37,   29,\n",
        "       21,   13,     5,   28,    20,    12,    4]\n",
        "\n",
        "matrikPC1 = np.array(PC1[:56]).reshape(8, 7)\n",
        "print(matrikPC1)"
      ],
      "metadata": {
        "id": "KzcTEVhXHOfR"
      },
      "execution_count": null,
      "outputs": []
    },
    {
      "cell_type": "markdown",
      "source": [
        "Langkah 4 Permutasi kunci"
      ],
      "metadata": {
        "id": "GYNKL6QnJWu5"
      }
    },
    {
      "cell_type": "code",
      "source": [
        "i = 0\n",
        "s = \"\"\n",
        "\n",
        "# 56 bit\n",
        "permuted_key = [binKey[i - 1] for i in PC1]\n",
        "\n",
        "#print(\"The message after the IP \\n\")\n",
        "keyPC1 = s.join(permuted_key)\n",
        "print(keyPC1, \"\\n\")\n",
        "\n",
        "#Langkah 5\n",
        "# 28 bit\n",
        "C0 = keyPC1[:28]\n",
        "D0 = keyPC1[-28:]\n",
        "\n",
        "LeftSideKey = [C0]\n",
        "#C0\n",
        "formatted_binary_C0 = ' '.join([C0[i:i+7] for i in range(0, len(C0), 7)])\n",
        "print(\"C0 : \"+formatted_binary_C0)\n",
        "\n",
        "RightSideKey = [D0]\n",
        "#D0\n",
        "formatted_binary_D0 = ' '.join([D0[i:i+7] for i in range(0, len(D0), 7)])\n",
        "print(\"D0 : \"+formatted_binary_D0)"
      ],
      "metadata": {
        "id": "gy2gRUgBJaGS"
      },
      "execution_count": null,
      "outputs": []
    },
    {
      "cell_type": "code",
      "source": [
        "C1 = C0[1:28] + C0[0]; D1 = D0[1:28] + D0[0]\n",
        "\n",
        "C2 = C1[1:28] + C1[0]; D2 = D1[1:28] + D1[0]\n",
        "\n",
        "C3 = C2[2:28] + C2[0] + C2[1]; D3 = D2[2:28] + D2[0] + D2[1]\n",
        "\n",
        "C4 = C3[2:28] + C3[0] + C3[1]; D4 = D3[2:28] + D3[0] + D3[1]\n",
        "\n",
        "C5 = C4[2:28] + C4[0] + C4[1]; D5 = D4[2:28] + D4[0] + D4[1]\n",
        "\n",
        "C6 = C5[2:28] + C5[0] + C5[1]; D6 = D5[2:28] + D5[0] + D5[1]\n",
        "\n",
        "C7 = C6[2:28] + C6[0] + C6[1]; D7 = D6[2:28] + D6[0] + D6[1]\n",
        "\n",
        "C8 = C7[2:28] + C7[0] + C7[1]; D8 = D7[2:28] + D7[0] + D7[1]\n",
        "\n",
        "C9 = C8[1:28] + C8[0]; D9 = D8[1:28] + D8[0]\n",
        "\n",
        "C10 = C9[2:28] + C9[0] + C9[1]; D10 = D9[2:28] + D9[0] + D9[1]\n",
        "\n",
        "C11 = C10[2:28] + C10[0] + C10[1]; D11 = D10[2:28] + D10[0] + D10[1]\n",
        "\n",
        "C12 = C11[2:28] + C11[0] + C11[1]; D12 = D11[2:28] + D11[0] + D11[1]\n",
        "\n",
        "C13 = C12[2:28] + C12[0] + C12[1]; D13 = D12[2:28] + D12[0] + D12[1]\n",
        "\n",
        "C14 = C13[2:28] + C13[0] + C13[1]; D14 = D13[2:28] + D13[0] + D13[1]\n",
        "\n",
        "C15 = C14[2:28] + C14[0] + C14[1]; D15 = D14[2:28] + D14[0] + D14[1]\n",
        "\n",
        "C16 = C15[1:28] + C15[0]; D16 = D15[1:28] + D15[0]\n",
        "\n",
        "# Penggabungan Cn dan Dn\n",
        "\n",
        "\n",
        "Key1  = C1 + D1; Key2  = C2 + D2; Key3  = C3 + D3; Key4  = C4 + D4\n",
        "Key5  = C5 + D5; Key6  = C6 + D6; Key7  = C7 + D7; Key8  = C8 + D8\n",
        "Key9  = C9 + D9; Key10 = C10 + D10; Key11 = C11 + D11; Key12 = C12 + D12\n",
        "Key13 = C13 + D13; Key14 = C14 + D14; Key15 = C15 + D15; Key16 = C16 + D16\n"
      ],
      "metadata": {
        "id": "B4gBJqnHNlsV"
      },
      "execution_count": null,
      "outputs": []
    },
    {
      "cell_type": "code",
      "source": [
        "PC2 = [14,    17,   11,    24,     1,    5,\n",
        "        3,     28,   15,     6,    21,   10,\n",
        "        23,    19,   12,     4,    26,    8,\n",
        "        16,     7,   27,    20,    13,    2,\n",
        "        41,    52,   31,    37,    47,   55,\n",
        "        30,    40,   51,    45,    33,   48,\n",
        "        44,    49,   39,    56,    34,   53,\n",
        "        46,    42,   50,    36,    29,   32]"
      ],
      "metadata": {
        "id": "5vzQCWyn4TS-"
      },
      "execution_count": null,
      "outputs": []
    },
    {
      "cell_type": "code",
      "source": [
        "tempPCList1  = []; tempPCList2  = []; tempPCList3  = []; tempPCList4  = [];\n",
        "tempPCList5  = []; tempPCList6  = []; tempPCList7  = []; tempPCList8  = [];\n",
        "tempPCList9  = []; tempPCList10 = []; tempPCList11 = []; tempPCList12 = [];\n",
        "tempPCList13 = []; tempPCList14 = []; tempPCList15 = []; tempPCList16 = [];\n",
        "\n",
        "\n",
        "s = \"\"\n",
        "i = 0\n",
        "\n",
        "while (i <= len(PC2) - 1):\n",
        "\n",
        "  tempPCList1.append(Key1[PC2[i] - 1]); tempPCList2.append(Key2[PC2[i] - 1])\n",
        "  tempPCList3.append(Key3[PC2[i] - 1]); tempPCList4.append(Key4[PC2[i] - 1])\n",
        "  tempPCList5.append(Key5[PC2[i] - 1]); tempPCList6.append(Key6[PC2[i] - 1])\n",
        "  tempPCList7.append(Key7[PC2[i] - 1]); tempPCList8.append(Key8[PC2[i] - 1])\n",
        "  tempPCList9.append(Key9[PC2[i] - 1]); tempPCList10.append(Key10[PC2[i] - 1])\n",
        "  tempPCList11.append(Key11[PC2[i] - 1]); tempPCList12.append(Key12[PC2[i] - 1])\n",
        "  tempPCList13.append(Key13[PC2[i] - 1]); tempPCList14.append(Key14[PC2[i] - 1])\n",
        "  tempPCList15.append(Key15[PC2[i] - 1]); tempPCList16.append(Key16[PC2[i] - 1])\n",
        "\n",
        "  i += 1\n",
        "\n",
        "print(\"The 16 sub keys for the encryption operartion are: \\n\")\n",
        "\n",
        "K1 = s.join(tempPCList1); K2 = s.join(tempPCList2)\n",
        "K3 = s.join(tempPCList3); K4 = s.join(tempPCList4)\n",
        "K5 = s.join(tempPCList5); K6 = s.join(tempPCList6)\n",
        "K7 = s.join(tempPCList7); K8 = s.join(tempPCList8)\n",
        "K9 = s.join(tempPCList9); K10 = s.join(tempPCList10)\n",
        "K11 = s.join(tempPCList11); K12 = s.join(tempPCList12)\n",
        "K13 = s.join(tempPCList13); K14 = s.join(tempPCList14)\n",
        "K15 = s.join(tempPCList15); K16 = s.join(tempPCList16)\n",
        "\n",
        "List_of_Keys = [K1, K2, K3, K4, K5, K6, K7, K8, K9, K10, K11, K12, K13, K14, K15, K16 ]\n",
        "\n",
        "print(\"K1  =\",K1); print(\"K2  =\" ,K2); print(\"K3  =\" ,K3); print(\"K4  =\" ,K4)\n",
        "print(\"K5  =\" ,K5); print(\"K6  =\" ,K6); print(\"K7  =\" ,K7); print(\"K8  =\" ,K8)\n",
        "print(\"K9  =\" ,K9); print(\"K10 =\" ,K10); print(\"K11 =\" ,K11); print(\"K12 =\" ,K12)\n",
        "print(\"K13 =\" ,K13); print(\"K14 =\" ,K14); print(\"K15 =\" ,K15); print(\"K16 =\" ,K16)"
      ],
      "metadata": {
        "id": "xilxXJ2E6ILU"
      },
      "execution_count": null,
      "outputs": []
    },
    {
      "cell_type": "markdown",
      "source": [
        "Proses encipher"
      ],
      "metadata": {
        "id": "jU7Ww2SIRNdu"
      }
    },
    {
      "cell_type": "markdown",
      "source": [
        "### matriks"
      ],
      "metadata": {
        "id": "KYjJqZQRbbtr"
      }
    },
    {
      "cell_type": "code",
      "source": [
        "E = [32,     1,    2,     3,     4,    5,\n",
        "      4,     5,    6,     7,     8,    9,\n",
        "      8,     9,   10,    11,    12,   13,\n",
        "     12,    13,   14,    15,    16,   17,\n",
        "     16,    17,   18,    19,    20,   21,\n",
        "     20,    21,   22,    23,    24,   25,\n",
        "     24,    25,   26,    27,    28,   29,\n",
        "     28,    29,   30,    31,    32,    1]\n",
        "\n",
        "Sboxes = [\n",
        "\n",
        "        {'000000':'1110', '000010':'0100', '000100':'1101', '000110':'0001', '001000':'0010', '001010':'1111', '001100':'1011', '001110':'1000',\n",
        "         '010000':'0011', '010010':'1010', '010100':'0110', '010110':'1100', '011000':'0101', '011010':'1001', '011100':'0000', '011110':'0111',\n",
        "         '000001':'0000', '000011':'1111', '000101':'0111', '000111':'0100', '001001':'1110', '001011':'0010', '001101':'1101', '001111':'0001',\n",
        "         '010001':'1010', '010011':'0110', '010101':'1100', '010111':'1011', '011001':'1001', '011011':'0101', '011101':'0011', '011111':'1000',\n",
        "         '100000':'0100', '100010':'0001', '100100':'1110', '100110':'1000', '101000':'1101', '101010':'0110', '101100':'0010', '101110':'1011',\n",
        "         '110000':'1111', '110010':'1100', '110100':'1001', '110110':'0111', '111000':'0011', '111010':'1010', '111100':'0101', '111110':'0000',\n",
        "         '100001':'1111', '100011':'1100', '100101':'1000', '100111':'0010', '101001':'0100', '101011':'1001', '101101':'0001', '101111':'0111',\n",
        "         '110001':'0101', '110011':'1011', '110101':'0011', '110111':'1110', '111001':'1010', '111011':'0000', '111101':'0110', '111111':'1101'},\n",
        "\n",
        "        {'000000':'1111', '000010':'0001', '000100':'1000', '000110':'1110', '001000':'0110', '001010':'1011', '001100':'0011', '001110':'0100',\n",
        "         '010000':'1001', '010010':'0111', '010100':'0010', '010110':'1101', '011000':'1100', '011010':'0000', '011100':'0101', '011110':'1010',\n",
        "         '000001':'0011', '000011':'1101', '000101':'0100', '000111':'0111', '001001':'1111', '001011':'0010', '001101':'1000', '001111':'1110',\n",
        "         '010001':'1100', '010011':'0000', '010101':'0001', '010111':'1010', '011001':'0110', '011011':'1001', '011101':'1011', '011111':'0101',\n",
        "         '100000':'0000', '100010':'1110', '100100':'0111', '100110':'1011', '101000':'1010', '101010':'0100', '101100':'1101', '101110':'0001',\n",
        "         '110000':'0101', '110010':'1000', '110100':'1100', '110110':'0110', '111000':'1001', '111010':'0011', '111100':'0010', '111110':'1111',\n",
        "         '100001':'1101', '100011':'1000', '100101':'1010', '100111':'0001', '101001':'0011', '101011':'1111', '101101':'0100', '101111':'0010',\n",
        "         '110001':'1011', '110011':'0110', '110101':'0111', '110111':'1100', '111001':'0000', '111011':'0101', '111101':'1110', '111111':'1001'},\n",
        "\n",
        "        {'000000':'1010', '000010':'0000', '000100':'1001', '000110':'1110', '001000':'0110', '001010':'0011', '001100':'1111', '001110':'0101',\n",
        "         '010000':'0001', '010010':'1101', '010100':'1100', '010110':'0111', '011000':'1011', '011010':'0100', '011100':'0010', '011110':'1000',\n",
        "         '000001':'1011', '000011':'0111', '000101':'0000', '000111':'1001', '001001':'0011', '001011':'0100', '001101':'0110', '001111':'1010',\n",
        "         '010001':'0010', '010011':'1000', '010101':'0101', '010111':'1110', '011001':'1100', '011011':'1011', '011101':'1111', '011111':'0001',\n",
        "         '100000':'1101', '100010':'0110', '100100':'0100', '100110':'1001', '101000':'1000', '101010':'1111', '101100':'0011', '101110':'0000',\n",
        "         '110000':'1011', '110010':'0001', '110100':'0010', '110110':'1100', '111000':'0101', '111010':'1010', '111100':'1110', '111110':'0111',\n",
        "         '100001':'0001', '100011':'1010', '100101':'1011', '100111':'0000', '101001':'0110', '101011':'1001', '101101':'1000', '101111':'0111',\n",
        "         '110001':'0100', '110011':'1111', '110101':'1110', '110111':'0011', '111001':'1011', '111011':'0101', '111101':'0010', '111111':'1100'},\n",
        "\n",
        "        {'000000':'0111', '000010':'1101', '000100':'1110', '000110':'0011', '001000':'0000', '001010':'0110', '001100':'1001', '001110':'1010',\n",
        "         '010000':'0001', '010010':'0010', '010100':'1000', '010110':'0101', '011000':'1011', '011010':'1100', '011100':'0100', '011110':'1111',\n",
        "         '000001':'1101', '000011':'1000', '000101':'1101', '000111':'0101', '001001':'0110', '001011':'1111', '001101':'0000', '001111':'0011',\n",
        "         '010001':'0100', '010011':'0111', '010101':'0010', '010111':'1100', '011001':'0001', '011011':'1010', '011101':'1110', '011111':'1001',\n",
        "         '100000':'1010', '100010':'0110', '100100':'1001', '100110':'0000', '101000':'1100', '101010':'1011', '101100':'0111', '101110':'1101',\n",
        "         '110000':'1111', '110010':'0001', '110100':'0011', '110110':'1101', '111000':'0101', '111010':'0010', '111100':'1000', '111110':'0100',\n",
        "         '100001':'0011', '100011':'1111', '100101':'0000', '100111':'0110', '101001':'1010', '101011':'0001', '101101':'1101', '101111':'1000',\n",
        "         '110001':'1001', '110011':'0100', '110101':'0101', '110111':'1011', '111001':'1100', '111011':'0111', '111101':'0010', '111111':'1110'},\n",
        "\n",
        "        {'000000':'0010', '000010':'1100', '000100':'0100', '000110':'0001', '001000':'0111', '001010':'1010', '001100':'1011', '001110':'0110',\n",
        "         '010000':'1000', '010010':'0101', '010100':'0011', '010110':'1111', '011000':'1101', '011010':'0000', '011100':'1110', '011110':'1001',\n",
        "         '000001':'1110', '000011':'1011', '000101':'0010', '000111':'1100', '001001':'0100', '001011':'0111', '001101':'1101', '001111':'0001',\n",
        "         '010001':'0101', '010011':'0000', '010101':'1111', '010111':'1010', '011001':'0011', '011011':'1001', '011101':'1000', '011111':'0110',\n",
        "         '100000':'0100', '100010':'0010', '100100':'0001', '100110':'1011', '101000':'1010', '101010':'1101', '101100':'0111', '101110':'1000',\n",
        "         '110000':'1111', '110010':'1001', '110100':'1100', '110110':'0101', '111000':'0110', '111010':'0011', '111100':'0000', '111110':'0100',\n",
        "         '100001':'1011', '100011':'1000', '100101':'1100', '100111':'0111', '101001':'0001', '101011':'1110', '101101':'0010', '101111':'1101',\n",
        "         '110001':'0110', '110011':'1111', '110101':'0000', '110111':'1001', '111001':'1010', '111011':'0100', '111101':'0101', '111111':'0011'},\n",
        "\n",
        "        {'000000':'1100', '000010':'0001', '000100':'1010', '000110':'1111', '001000':'1001', '001010':'0010', '001100':'0110', '001110':'1000',\n",
        "         '010000':'0000', '010010':'1101', '010100':'0011', '010110':'0100', '011000':'1110', '011010':'0111', '011100':'0101', '011110':'1011',\n",
        "         '000001':'1010', '000011':'1111', '000101':'0100', '000111':'0010', '001001':'0111', '001011':'1100', '001101':'1001', '001111':'0101',\n",
        "         '010001':'0110', '010011':'0001', '010101':'1101', '010111':'1110', '011001':'0000', '011011':'1011', '011101':'0011', '011111':'1000',\n",
        "         '100000':'1001', '100010':'1110', '100100':'1111', '100110':'0101', '101000':'0010', '101010':'1000', '101100':'1100', '101110':'0011',\n",
        "         '110000':'0111', '110010':'0000', '110100':'0100', '110110':'1010', '111000':'0001', '111010':'1101', '111100':'1011', '111110':'0110',\n",
        "         '100001':'0100', '100011':'0011', '100101':'0010', '100111':'1100', '101001':'1001', '101011':'0101', '101101':'1111', '101111':'1010',\n",
        "         '110001':'1011', '110011':'1110', '110101':'0001', '110111':'0111', '111001':'0110', '111011':'0000', '111101':'1000', '111111':'1101'},\n",
        "\n",
        "        {'000000':'0100', '000010':'1011', '000100':'0010', '000110':'1110', '001000':'1111', '001010':'0000', '001100':'1000', '001110':'1101',\n",
        "         '010000':'0011', '010010':'1100', '010100':'1001', '010110':'0111', '011000':'0101', '011010':'1010', '011100':'0110', '011110':'0001',\n",
        "         '000001':'1101', '000011':'0000', '000101':'1011', '000111':'0111', '001001':'0100', '001011':'1001', '001101':'0001', '001111':'1010',\n",
        "         '010001':'1110', '010011':'0011', '010101':'0101', '010111':'1100', '011001':'0010', '011011':'1111', '011101':'1000', '011111':'0110',\n",
        "         '100000':'0001', '100010':'0100', '100100':'1011', '100110':'1101', '101000':'1100', '101010':'0011', '101100':'0111', '101110':'1110',\n",
        "         '110000':'1010', '110010':'1111', '110100':'0110', '110110':'1000', '111000':'0000', '111010':'0101', '111100':'1001', '111110':'0010',\n",
        "         '100001':'0110', '100011':'1011', '100101':'1101', '100111':'1000', '101001':'0001', '101011':'0100', '101101':'1010', '101111':'0111',\n",
        "         '110001':'1001', '110011':'0101', '110101':'0000', '110111':'1111', '111001':'1110', '111011':'0010', '111101':'0011', '111111':'1100'},\n",
        "\n",
        "        {'000000':'1101', '000010':'0010', '000100':'1000', '000110':'0100', '001000':'0110', '001010':'1111', '001100':'1011', '001110':'0001',\n",
        "         '010000':'1010', '010010':'1001', '010100':'0011', '010110':'1110', '011000':'0101', '011010':'0000', '011100':'1100', '011110':'0111',\n",
        "         '000001':'0001', '000011':'1111', '000101':'1101', '000111':'1000', '001001':'1010', '001011':'0011', '001101':'0111', '001111':'0100',\n",
        "         '010001':'1100', '010011':'0101', '010101':'0110', '010111':'1011', '011001':'0000', '011011':'1110', '011101':'1001', '011111':'0010',\n",
        "         '100000':'0111', '100010':'1011', '100100':'0100', '100110':'0001', '101000':'1001', '101010':'1100', '101100':'1110', '101110':'0010',\n",
        "         '110000':'0000', '110010':'0110', '110100':'1010', '110110':'1101', '111000':'1111', '111010':'0011', '111100':'0101', '111110':'1000',\n",
        "         '100001':'0010', '100011':'0001', '100101':'1110', '100111':'0111', '101001':'0100', '101011':'1010', '101101':'1000', '101111':'1101',\n",
        "         '110001':'1111', '110011':'1100', '110101':'1001', '110111':'0000', '111001':'0011', '111011':'0101', '111101':'0110', '111111':'1011'},\n",
        "\n",
        "        ]\n",
        "\n",
        "PBox = [16,   7,  20,  21, 29,  12,  28,  17,\n",
        "         1,  15,  23,  26, 5,  18,  31,  10,\n",
        "         2,   8,  24,  14, 32,  27,   3,   9,\n",
        "        19,  13,  30,   6, 22,  11,   4,  25]\n",
        "\n",
        "ipInverse = [ 40,     8,   48,    16,    56,   24,    64,   32,\n",
        "              39,     7,   47,    15,    55,   23,    63,   31,\n",
        "              38,     6,   46,    14,    54,   22,    62,   30,\n",
        "              37,     5,   45,    13,    53,   21,    61,   29,\n",
        "              36,     4,   44,    12,    52,   20,    60,   28,\n",
        "              35,     3,   43,    11,    51,   19,    59,   27,\n",
        "              34,     2,   42,    10,    50,   18,    58,   26,\n",
        "              33,     1,   41,     9,    49,   17,    57,   25]"
      ],
      "metadata": {
        "id": "R6n-l6dMQY_z"
      },
      "execution_count": null,
      "outputs": []
    },
    {
      "cell_type": "markdown",
      "source": [
        "## jaringan feistel"
      ],
      "metadata": {
        "id": "370wi8S0bj3n"
      }
    },
    {
      "cell_type": "code",
      "source": [
        "L0 = msgIP[:32]\n",
        "R0 = msgIP[-32:]\n",
        "\n",
        "LeftSideList = [L0]\n",
        "RightSideList = [R0]\n",
        "\n",
        "print(LeftSideList[0], \" \", RightSideList[0],\"\\n\")\n",
        "for i in range(16):\n",
        "    print(\"Encryption:\",\" \",\"Round\", i+1)\n",
        "    LeftSideList.append(RightSideList[i])\n",
        "\n",
        "    # 32 bit\n",
        "    tempERList = []\n",
        "    s = \"\"\n",
        "    m = 0\n",
        "    R = RightSideList[i]\n",
        "\n",
        "\n",
        "    # fungsi f\n",
        "    while (m <= len(E) - 1):\n",
        "      tempERList.append(R[E[m] - 1])\n",
        "      m += 1\n",
        "\n",
        "    # 48 bit\n",
        "    ER = s.join(tempERList)\n",
        "\n",
        "\n",
        "    tempF = []\n",
        "    s = \"\"\n",
        "    SUB_KEY= List_of_Keys[i]\n",
        "\n",
        "    for x in range(48):\n",
        "      if (SUB_KEY[x] == '0' and ER[x] == '0' or SUB_KEY[x] == '1' and ER[x] == '1'):\n",
        "          tempF.append('0')\n",
        "      elif (SUB_KEY[x] == '0' and ER[x] == '1' or SUB_KEY[x] == '1' and ER[x] == '0'):\n",
        "          tempF.append('1')\n",
        "\n",
        "    xorV = s.join(tempF)\n",
        "\n",
        "\n",
        "    # per 6 bit\n",
        "    divideR = []\n",
        "    start = 0; inc = 5; end = 47\n",
        "    while(start <= end):\n",
        "      divideR.append(xorV[start:inc + 1])\n",
        "      start = inc + 1\n",
        "      inc += 6\n",
        "\n",
        "\n",
        "\n",
        "    tempSboxesList = []\n",
        "    for p in range(len(divideR)):\n",
        "        item = divideR[p]\n",
        "        dict = Sboxes[p]\n",
        "        tempSboxesList.append(dict[item])\n",
        "    # 32 bit\n",
        "    Results_of_Sboxes = s.join(tempSboxesList)\n",
        "\n",
        "\n",
        "\n",
        "    # P-Box permutation\n",
        "    counter = 0\n",
        "    s = ''\n",
        "    tempFList = []\n",
        "    while (counter <= len(PBox) - 1):\n",
        "       tempFList.append(Results_of_Sboxes[PBox[counter] - 1])\n",
        "       counter += 1\n",
        "\n",
        "    F = s.join(tempFList)\n",
        "\n",
        "\n",
        "    # 32 bit\n",
        "    tempNewR = []\n",
        "    s = ''\n",
        "    PreviousL = LeftSideList[i]\n",
        "    for n in range(32):\n",
        "      if (F[n] == '0' and PreviousL[n] == '0' or F[n] == '1' and PreviousL[n] == '1'):\n",
        "          tempNewR.append('0')\n",
        "      elif (F[n] == '0' and PreviousL[n] == '1' or F[n] == '1' and PreviousL[n] == '0'):\n",
        "          tempNewR.append('1')\n",
        "    NextR = s.join(tempNewR)\n",
        "    RightSideList.append(NextR)\n",
        "\n",
        "    print(\"R lanjut : \",NextR,\"\\n\")\n",
        "\n",
        "    print(LeftSideList[i+1], \" \", RightSideList[i+1],\"\\n\")\n",
        "\n",
        "\n",
        "\n",
        "\n"
      ],
      "metadata": {
        "id": "w68k8AxJN3Yt"
      },
      "execution_count": null,
      "outputs": []
    },
    {
      "cell_type": "code",
      "source": [
        "for i in range(16):\n",
        " if (i == 15):\n",
        "\n",
        "    tempCipher = RightSideList[i + 1] + LeftSideList[i + 1]\n",
        "\n",
        "    count = 0\n",
        "    s = ''\n",
        "    tempCipherList = []\n",
        "    while (count <= len(ipInverse) - 1):\n",
        "          tempCipherList.append(tempCipher[ipInverse[count] - 1])\n",
        "          count += 1\n",
        "\n",
        "    Cipher = s.join(tempCipherList)\n",
        "\n",
        "    divideCipher = []; start = 0; inc = 3; end = 63\n",
        "    while(start <= end):\n",
        "        divideCipher.append(Cipher[start:inc + 1])\n",
        "        start = inc + 1\n",
        "        inc += 4\n",
        "\n",
        "    #print(divideCipher)\n",
        "    Cipher_Hexa_List = []\n",
        "    s = ''\n",
        "    for c1 in divideCipher:\n",
        "          for d1 in hexa_to_bin:\n",
        "                if c1 == hexa_to_bin[d1]:\n",
        "                    Cipher_Hexa_List.append(d1)\n",
        "    #print(Cipher_Hexa)\n",
        "    Cipher_Hexa = s.join(Cipher_Hexa_List)\n"
      ],
      "metadata": {
        "id": "fsG-in1CRPXD"
      },
      "execution_count": null,
      "outputs": []
    },
    {
      "cell_type": "code",
      "source": [
        "print(\"Cipher biner text =\",\" \",Cipher)\n",
        "print(\"Cipher Hexa text =\",\" \",Cipher_Hexa)"
      ],
      "metadata": {
        "id": "xvmW8P9CT9XL"
      },
      "execution_count": null,
      "outputs": []
    },
    {
      "cell_type": "markdown",
      "source": [
        "# Dekripsi"
      ],
      "metadata": {
        "id": "uvyA2pIsJVNK"
      }
    },
    {
      "cell_type": "code",
      "source": [
        "tempIPList = []\n",
        "s = \"\"\n",
        "i = 0\n",
        "\n",
        "while (i <= len(IP) - 1):\n",
        "   tempIPList.append(Cipher[IP[i] - 1])\n",
        "   i += 1\n",
        "\n",
        "print(\"The message after the IP\")\n",
        "msgIP = s.join(tempIPList)\n",
        "print(msgIP, \"\\n\")"
      ],
      "metadata": {
        "id": "UjJulN_LJT8x"
      },
      "execution_count": null,
      "outputs": []
    },
    {
      "cell_type": "code",
      "source": [
        "R16 = msgIP[:32]\n",
        "L16 = msgIP[-32:]\n",
        "# 32 bit\n",
        "LeftSideList = [R16]\n",
        "RightSideList = [L16]"
      ],
      "metadata": {
        "id": "aMj5QbszM466"
      },
      "execution_count": null,
      "outputs": []
    },
    {
      "cell_type": "code",
      "source": [
        "i = 0\n",
        "s = \"\"\n",
        "\n",
        "permuted_key = [binKey[i - 1] for i in PC1]\n",
        "\n",
        "#print(\"The message after the IP \\n\")\n",
        "# 56 bit\n",
        "keyPC1 = s.join(permuted_key)\n",
        "print(keyPC1, \"\\n\")\n",
        "\n",
        "#Langkah 5\n",
        "# 28 bit\n",
        "C0 = keyPC1[:28]\n",
        "D0 = keyPC1[-28:]\n",
        "\n",
        "LeftSideKey = [C0]\n",
        "#C0\n",
        "formatted_binary_C0 = ' '.join([C0[i:i+7] for i in range(0, len(C0), 7)])\n",
        "print(\"C0 : \"+formatted_binary_C0)\n",
        "\n",
        "RightSideKey = [D0]\n",
        "#D0\n",
        "formatted_binary_D0 = ' '.join([D0[i:i+7] for i in range(0, len(D0), 7)])\n",
        "print(\"D0 : \"+formatted_binary_D0)"
      ],
      "metadata": {
        "id": "dEWx55klYO28"
      },
      "execution_count": null,
      "outputs": []
    },
    {
      "cell_type": "code",
      "source": [
        "R16 = msgIP[:32]\n",
        "L16 = msgIP[-32:]\n",
        "\n",
        "LeftSideList = [R16]\n",
        "RightSideList = [L16]\n",
        "\n",
        "print(LeftSideList[0], \" \", RightSideList[0],\"\\n\")\n",
        "for i in range(16):\n",
        "  print(\"Decryption:\",\" \",\"Round\", i + 1)\n",
        "  LeftSideList.append(RightSideList[i])\n",
        "  # 32 bit\n",
        "  # fungsi f\n",
        "  tempERList = []\n",
        "  s = \"\"\n",
        "  m = 0\n",
        "  R = RightSideList[i]\n",
        "  while (m <= len(E) - 1):\n",
        "      tempERList.append(R[E[m] - 1])\n",
        "      m += 1\n",
        "  # 48 bit\n",
        "  ER = s.join(tempERList)\n",
        "\n",
        "  tempF = []\n",
        "  s = \"\"\n",
        "  SUB_KEY= List_of_Keys[15 - i]\n",
        "\n",
        "  for x in range(48):\n",
        "     if (SUB_KEY[x] == '0' and ER[x] == '0' or SUB_KEY[x] == '1' and ER[x] == '1'):\n",
        "              tempF.append('0')\n",
        "     elif (SUB_KEY[x] == '0' and ER[x] == '1' or SUB_KEY[x] == '1' and ER[x] == '0'):\n",
        "              tempF.append('1')\n",
        "\n",
        "  xorV = s.join(tempF)\n",
        "  # per 6 bit\n",
        "  divideR = []; start = 0; inc = 5; end = 47\n",
        "  while(start <= end):\n",
        "          divideR.append(xorV[start:inc + 1])\n",
        "          start = inc + 1\n",
        "          inc += 6\n",
        "\n",
        "\n",
        "  tempSboxesList = []\n",
        "  for p in range(len(divideR)):\n",
        "    item = divideR[p]\n",
        "    dict = Sboxes[p]\n",
        "    tempSboxesList.append(dict[item])\n",
        "  # 32 bit\n",
        "  Results_of_Sboxes = s.join(tempSboxesList)\n",
        "\n",
        "  # P-Box permutation\n",
        "  counter = 0\n",
        "  s = ''\n",
        "  tempFList = []\n",
        "  while (counter <= len(PBox) - 1):\n",
        "       tempFList.append(Results_of_Sboxes[PBox[counter] - 1])\n",
        "       counter += 1\n",
        "  F = s.join(tempFList)\n",
        "\n",
        "  # 32 bit\n",
        "  tempNewR = []\n",
        "  s = ''\n",
        "  PreviousR = LeftSideList[i]\n",
        "  for n in range(32):\n",
        "       if (F[n] == '0' and PreviousR[n] == '0' or F[n] == '1' and PreviousR[n] == '1'):\n",
        "              tempNewR.append('0')\n",
        "       elif (F[n] == '0' and PreviousR[n] == '1' or F[n] == '1' and PreviousR[n] == '0'):\n",
        "              tempNewR.append('1')\n",
        "\n",
        "\n",
        "  NextL = s.join(tempNewR)\n",
        "  RightSideList.append(NextL)\n",
        "\n",
        "  print(NextL,\"\\n\")\n",
        "  print(LeftSideList[i + 1], \" \", RightSideList[i+1],\"\\n\")"
      ],
      "metadata": {
        "id": "VSC0hvpcQNzn"
      },
      "execution_count": null,
      "outputs": []
    },
    {
      "cell_type": "code",
      "source": [
        "if (i == 15):\n",
        "    tempPlain = RightSideList[i + 1] + LeftSideList[i + 1]\n",
        "\n",
        "    count = 0\n",
        "    s = ''\n",
        "    tempPlainList = []\n",
        "    while (count <= len(ipInverse) - 1):\n",
        "          tempPlainList.append(tempPlain[ipInverse[count] - 1])\n",
        "          count += 1\n",
        "\n",
        "    plain = s.join(tempPlainList)\n",
        "    print(\"Plain text =\",\" \",plain)"
      ],
      "metadata": {
        "id": "F2bHoxiex6IV"
      },
      "execution_count": null,
      "outputs": []
    },
    {
      "cell_type": "code",
      "source": [
        "dividePlaintxt = []; start = 0; inc = 3; end = 63\n",
        "while(start <= end):\n",
        "  dividePlaintxt.append(plain[start:inc + 1])\n",
        "  start = inc + 1\n",
        "  inc += 4\n",
        "\n",
        "#print(divideCipher)\n",
        "Plain_Hexa_List = []\n",
        "s = ''\n",
        "for c1 in dividePlaintxt:\n",
        "    for d1 in hexa_to_bin:\n",
        "        if c1 == hexa_to_bin[d1]:\n",
        "            Plain_Hexa_List.append(d1)\n",
        "\n",
        "#print(Cipher_Hexa)\n",
        "Plain_Hexa = s.join(Plain_Hexa_List)\n",
        "dividePlainHexa = []; start = 0; inc = 1; end = 15\n",
        "while(start <= end):\n",
        "    dividePlainHexa.append(Plain_Hexa[start:inc + 1])\n",
        "    start = inc + 1\n",
        "    inc += 2\n",
        "print(dividePlainHexa)\n",
        "\n",
        "Plain_Char_List = []\n",
        "s = ''\n",
        "for h1 in dividePlainHexa:\n",
        "    for c1 in hexa_to_char:\n",
        "      if h1 == c1:\n",
        "         Plain_Char_List.append(hexa_to_char[c1])\n",
        "\n",
        "\n",
        "finalPlain_Text = s.join(Plain_Char_List)\n",
        "print(finalPlain_Text)"
      ],
      "metadata": {
        "id": "nTqNEXmAyCWl"
      },
      "execution_count": null,
      "outputs": []
    }
  ]
}